{
 "cells": [
  {
   "cell_type": "markdown",
   "metadata": {},
   "source": [
    "# Python 클린 코드 \n",
    "\n",
    "### **학습 목표:** Python 코드 컨벤션과 클린코드 원칙을 적용한다.\n",
    "\n",
    "---"
   ]
  },
  {
   "cell_type": "markdown",
   "metadata": {},
   "source": [
    "## 1단계: 파이썬 기초 개념"
   ]
  },
  {
   "cell_type": "markdown",
   "metadata": {},
   "source": [
    "### 1.1 변수와 데이터 타입\n",
    "\n",
    "- **변수**는 메모리 공간의 이름으로, 파이썬의 _동적 타이핑_ 특성상 타입 선언 없이 자유롭게 값 할당 가능\n",
    "\n",
    "- 기본 데이터 타입은 **숫자형**, **문자열**, **불리언**, **리스트**, **튜플**, **딕셔너리**, **집합** 등이 있으며 각각 고유한 특성 보유\n",
    "\n",
    "- `type()` 함수로 데이터 타입을 확인하고, **타입 변환 함수**(`int()`, `str()`, `float()`)를 통해 데이터 타입 변환 가능\n"
   ]
  },
  {
   "cell_type": "code",
   "execution_count": 1,
   "metadata": {},
   "outputs": [],
   "source": [
    "# 기본 데이터 타입 예제\n",
    "number = 42          # 정수형(int)\n",
    "decimal = 3.14       # 실수형(float)\n",
    "text = \"Hello\"       # 문자열(str)\n",
    "is_valid = True      # 불리언(bool)"
   ]
  },
  {
   "cell_type": "code",
   "execution_count": 2,
   "metadata": {},
   "outputs": [
    {
     "name": "stdout",
     "output_type": "stream",
     "text": [
      "<class 'int'>\n"
     ]
    }
   ],
   "source": [
    "# 데이터 타입 확인하기\n",
    "print(type(number))  # <class 'int'>"
   ]
  },
  {
   "cell_type": "code",
   "execution_count": 3,
   "metadata": {},
   "outputs": [
    {
     "name": "stdout",
     "output_type": "stream",
     "text": [
      "<class 'str'>\n"
     ]
    }
   ],
   "source": [
    "print(type(text))    # <class 'str'>"
   ]
  },
  {
   "cell_type": "markdown",
   "metadata": {},
   "source": [
    "### 1.2 기본 연산자\n",
    "\n",
    "- **산술 연산자**(`+`, `-`, `*`, `/`, `%`, `**`)로 기본 수학 연산을 수행하며, _정수 나눗셈_은 `//` 연산자 사용\n",
    "\n",
    "- **비교 연산자**(`==`, `!=`, `>`, `<`, `>=`, `<=`)와 **논리 연산자**(`and`, `or`, `not`)를 조합하여 조건문 구성 가능\n",
    "\n",
    "- **할당 연산자**(`=`, `+=`, `-=`, `*=`, `/=`)를 통해 변수에 값을 할당하거나 연산과 할당을 동시 수행"
   ]
  },
  {
   "cell_type": "code",
   "execution_count": 4,
   "metadata": {},
   "outputs": [
    {
     "name": "stdout",
     "output_type": "stream",
     "text": [
      "15\n",
      "5\n",
      "50\n",
      "2.0\n",
      "1\n",
      "100\n"
     ]
    }
   ],
   "source": [
    "# 산술 연산자\n",
    "result1 = 10 + 5    # 덧셈\n",
    "result2 = 10 - 5    # 뺄셈\n",
    "result3 = 10 * 5    # 곱셈\n",
    "result4 = 10 / 5    # 나눗셈\n",
    "result5 = 10 % 3    # 나머지\n",
    "result6 = 10 ** 2   # 거듭제곱\n",
    "\n",
    "# 결과 출력\n",
    "print(result1)      # 15\n",
    "print(result2)      # 5\n",
    "print(result3)      # 50\n",
    "print(result4)      # 2.0\n",
    "print(result5)      # 1\n",
    "print(result6)      # 100"
   ]
  },
  {
   "cell_type": "code",
   "execution_count": 5,
   "metadata": {},
   "outputs": [
    {
     "name": "stdout",
     "output_type": "stream",
     "text": [
      "False\n",
      "True\n"
     ]
    }
   ],
   "source": [
    "# 비교 연산자\n",
    "is_equal = 10 == 5      # False\n",
    "is_greater = 10 > 5     # True\n",
    "\n",
    "# 결과 출력\n",
    "print(is_equal)         # False\n",
    "print(is_greater)       # True"
   ]
  },
  {
   "cell_type": "code",
   "execution_count": 6,
   "metadata": {},
   "outputs": [
    {
     "name": "stdout",
     "output_type": "stream",
     "text": [
      "False\n",
      "True\n"
     ]
    }
   ],
   "source": [
    "# 논리 연산자\n",
    "result1 = True and False   # False\n",
    "result2 = True or False    # True\n",
    "\n",
    "# 결과 출력\n",
    "print(result1)             # False\n",
    "print(result2)             # True"
   ]
  },
  {
   "cell_type": "code",
   "execution_count": 7,
   "metadata": {},
   "outputs": [
    {
     "name": "stdout",
     "output_type": "stream",
     "text": [
      "15\n"
     ]
    }
   ],
   "source": [
    "# 할당 연산자\n",
    "number = 10\n",
    "number += 5     # number = number + 5\n",
    "\n",
    "print(number)   # 15"
   ]
  },
  {
   "cell_type": "markdown",
   "metadata": {},
   "source": [
    "--- \n",
    "\n",
    "## 2단계: 제어문"
   ]
  },
  {
   "cell_type": "markdown",
   "metadata": {},
   "source": [
    "### 2.1 조건문\n",
    "\n",
    "- **조건문**은 `if`, `elif`, `else`를 사용하며, 들여쓰기로 코드 블록을 구분\n",
    "\n",
    "- **조건식**에서는 비교/논리 연산자 사용 가능하며, 빈 컨테이너(`[]`, `()`, `{}`), `0`, `None`은 거짓으로 평가\n",
    "\n",
    "- **삼항 연산자**(`결과 = A if 조건 else B`)로 간단한 조건문을 한 줄로 표현 가능"
   ]
  },
  {
   "cell_type": "code",
   "execution_count": 8,
   "metadata": {},
   "outputs": [
    {
     "name": "stdout",
     "output_type": "stream",
     "text": [
      "B\n"
     ]
    }
   ],
   "source": [
    "# 조건문 사용 - 점수에 따른 등급을 출력 \n",
    "score = 85\n",
    "    \n",
    "if score >= 90:\n",
    "    print(\"A\")\n",
    "\n",
    "elif score >= 80:\n",
    "    print(\"B\")\n",
    "\n",
    "elif score >= 70:\n",
    "    print(\"C\")\n",
    "\n",
    "else:\n",
    "    print(\"F\")"
   ]
  },
  {
   "cell_type": "code",
   "execution_count": 9,
   "metadata": {},
   "outputs": [
    {
     "name": "stdout",
     "output_type": "stream",
     "text": [
      "pass\n"
     ]
    }
   ],
   "source": [
    "# 삼항 연산자\n",
    "score = 85\n",
    "result = \"pass\" if score >= 80 else \"fail\"\n",
    "\n",
    "print(result)   # pass"
   ]
  },
  {
   "cell_type": "markdown",
   "metadata": {},
   "source": [
    "### 2.2 반복문\n",
    "\n",
    "- **반복문**은 `for`와 `while` 두 종류가 있으며, `for`는 시퀀스 순회에, `while`은 조건부 반복에 사용\n",
    "\n",
    "- **제어 키워드** `break`, `continue`, `else`를 통해 반복문의 세밀한 흐름 제어 가능\n",
    "\n",
    "- **내장 함수** `enumerate()`, `zip()` 등과 함께 사용하여 다양한 반복 패턴 구현 가능"
   ]
  },
  {
   "cell_type": "code",
   "execution_count": 10,
   "metadata": {},
   "outputs": [
    {
     "name": "stdout",
     "output_type": "stream",
     "text": [
      "반복 1번째\n",
      "반복 2번째\n",
      "반복 3번째\n",
      "반복 4번째\n",
      "반복 5번째\n"
     ]
    }
   ],
   "source": [
    "# for 반복문 - 5번 반복\n",
    "for i in range(5):\n",
    "    print(f\"반복 {i+1}번째\")"
   ]
  },
  {
   "cell_type": "code",
   "execution_count": 11,
   "metadata": {},
   "outputs": [
    {
     "name": "stdout",
     "output_type": "stream",
     "text": [
      "현재 카운트: 0\n",
      "현재 카운트: 1\n",
      "현재 카운트: 2\n",
      "현재 카운트: 3\n",
      "현재 카운트: 4\n"
     ]
    }
   ],
   "source": [
    "# while 반복문 - 조건을 충족할 때까지 반복\n",
    "count = 0\n",
    "while count < 5:\n",
    "    print(f\"현재 카운트: {count}\")\n",
    "    count += 1"
   ]
  },
  {
   "cell_type": "code",
   "execution_count": 12,
   "metadata": {},
   "outputs": [
    {
     "name": "stdout",
     "output_type": "stream",
     "text": [
      "0\n",
      "1\n",
      "2\n",
      "3\n",
      "4\n"
     ]
    }
   ],
   "source": [
    "# break 키워드 사용 - 반복문 종료\n",
    "\n",
    "for i in range(10):\n",
    "    if i == 5:\n",
    "        break\n",
    "    print(i) # 0, 1, 2, 3, 4 출력"
   ]
  },
  {
   "cell_type": "code",
   "execution_count": 13,
   "metadata": {},
   "outputs": [
    {
     "name": "stdout",
     "output_type": "stream",
     "text": [
      "1\n",
      "3\n",
      "5\n",
      "7\n",
      "9\n"
     ]
    }
   ],
   "source": [
    "# continue 키워드 사용 - 반복문의 나머지 부분을 건너뛰고 다음 반복을 진행\n",
    "\n",
    "for i in range(10):\n",
    "    if i % 2 == 0:\n",
    "        continue\n",
    "    print(i) # 1, 3, 5, 7, 9 출력"
   ]
  },
  {
   "cell_type": "code",
   "execution_count": 14,
   "metadata": {},
   "outputs": [
    {
     "name": "stdout",
     "output_type": "stream",
     "text": [
      "인덱스: 0, 과일: apple\n",
      "인덱스: 1, 과일: banana\n",
      "인덱스: 2, 과일: cherry\n"
     ]
    }
   ],
   "source": [
    "# enumerate 함수 - 반복문에서 인덱스와 원소를 함께 사용\n",
    "fruits = [\"apple\", \"banana\", \"cherry\"]\n",
    "\n",
    "for index, fruit in enumerate(fruits):\n",
    "    print(f\"인덱스: {index}, 과일: {fruit}\")"
   ]
  },
  {
   "cell_type": "code",
   "execution_count": 15,
   "metadata": {},
   "outputs": [
    {
     "name": "stdout",
     "output_type": "stream",
     "text": [
      "과일: apple, 색상: red\n",
      "과일: banana, 색상: yellow\n",
      "과일: cherry, 색상: pink\n"
     ]
    }
   ],
   "source": [
    "# zip 함수 - 여러 개의 리스트를 같은 인덱스끼리 묶어주는 함수\n",
    "\n",
    "fruits = [\"apple\", \"banana\", \"cherry\"]\n",
    "colors = [\"red\", \"yellow\", \"pink\"]\n",
    "\n",
    "for fruit, color in zip(fruits, colors):\n",
    "    print(f\"과일: {fruit}, 색상: {color}\")"
   ]
  },
  {
   "cell_type": "markdown",
   "metadata": {},
   "source": [
    "--- \n",
    "\n",
    "## 3단계: 자료구조"
   ]
  },
  {
   "cell_type": "markdown",
   "metadata": {},
   "source": [
    "### 3.1 리스트 (List)\n",
    "\n",
    "- **리스트**는 순서가 있고 변경 가능한 시퀀스로, `[]`로 생성하며 다양한 타입의 요소 저장 가능\n",
    "\n",
    "- **주요 메서드**로 `append()`, `extend()`, `insert()`, `remove()`, `pop()`, `sort()`를 제공하여 **데이터 조작** 가능\n",
    "\n",
    "- **리스트 컴프리헨션**을 통해 반복문과 조건문을 한 줄로 표현하여 새로운 리스트를 효율적으로 생성"
   ]
  },
  {
   "cell_type": "code",
   "execution_count": 16,
   "metadata": {},
   "outputs": [],
   "source": [
    "# 리스트 생성과 조작\n",
    "numbers = [1, 2, 3, 4, 5]\n",
    "fruits = [\"사과\", \"바나나\", \"오렌지\"]"
   ]
  },
  {
   "cell_type": "code",
   "execution_count": 17,
   "metadata": {},
   "outputs": [
    {
     "name": "stdout",
     "output_type": "stream",
     "text": [
      "1\n",
      "바나나\n"
     ]
    }
   ],
   "source": [
    "# 인덱싱 - 리스트의 특정 위치에 있는 원소를 가져오기\n",
    "\n",
    "print(numbers[0])   # 1\n",
    "print(fruits[1])    # 바나나"
   ]
  },
  {
   "cell_type": "code",
   "execution_count": 18,
   "metadata": {},
   "outputs": [
    {
     "name": "stdout",
     "output_type": "stream",
     "text": [
      "[2, 3]\n",
      "['사과', '바나나']\n"
     ]
    }
   ],
   "source": [
    "# 슬라이싱 - 리스트의 일부분을 가져오기\n",
    "\n",
    "print(numbers[1:3]) # [2, 3]\n",
    "print(fruits[:2])   # ['사과', '바나나']"
   ]
  },
  {
   "cell_type": "code",
   "execution_count": 19,
   "metadata": {},
   "outputs": [
    {
     "name": "stdout",
     "output_type": "stream",
     "text": [
      "[1, 2, 3, 4, 5, 6]\n"
     ]
    }
   ],
   "source": [
    "# 요소 추가 (append) : 리스트 끝에 요소 추가\n",
    "numbers.append(6)   \n",
    "\n",
    "print(numbers)  # [1, 2, 3, 4, 5, 6]"
   ]
  },
  {
   "cell_type": "code",
   "execution_count": 20,
   "metadata": {},
   "outputs": [
    {
     "name": "stdout",
     "output_type": "stream",
     "text": [
      "['사과', '배', '바나나', '오렌지']\n"
     ]
    }
   ],
   "source": [
    "# 요소 추가 (insert) : 특정 위치에 요소 추가\n",
    "fruits.insert(1, \"배\")\n",
    "\n",
    "print(fruits)   # ['사과', '배', '바나나', '오렌지']"
   ]
  },
  {
   "cell_type": "code",
   "execution_count": 21,
   "metadata": {},
   "outputs": [
    {
     "name": "stdout",
     "output_type": "stream",
     "text": [
      "[1, 2, 3, 4, 5]\n"
     ]
    }
   ],
   "source": [
    "# 마지막 요소 제거 (pop)\n",
    "numbers.pop()\n",
    "\n",
    "print(numbers)  # [1, 2, 3, 4, 5]"
   ]
  },
  {
   "cell_type": "code",
   "execution_count": 22,
   "metadata": {},
   "outputs": [
    {
     "name": "stdout",
     "output_type": "stream",
     "text": [
      "[1, 3, 5, 7, 9]\n"
     ]
    }
   ],
   "source": [
    "# 리스트 컴프리헨션 - 리스트를 간단하게 생성\n",
    "odd_numbers = [i for i in range(10) if i % 2 == 1]\n",
    "\n",
    "print(odd_numbers)  # [1, 3, 5, 7, 9]"
   ]
  },
  {
   "cell_type": "markdown",
   "metadata": {},
   "source": [
    "### 3.2 딕셔너리(Dictionary)\n",
    "\n",
    "- **딕셔너리**는 키-값 쌍을 저장하는 해시 테이블 구조로, `{}`로 생성하며 키는 반드시 **고유하고 변경 불가능**해야 함\n",
    "\n",
    "- **핵심 메서드**로 `keys()`, `values()`, `items()`, `get()`, `update()`, `pop()`을 제공하여 데이터 관리\n",
    "\n",
    "- **딕셔너리 컴프리헨션**으로 간결한 문법을 통해 새로운 딕셔너리를 효율적으로 생성 가능"
   ]
  },
  {
   "cell_type": "code",
   "execution_count": 23,
   "metadata": {},
   "outputs": [
    {
     "name": "stdout",
     "output_type": "stream",
     "text": [
      "{'name': '김철수', 'age': 20, 'scores': {'국어': 85, '수학': 90, '영어': 88}}\n"
     ]
    }
   ],
   "source": [
    "# 딕셔너리 생성과 활용\n",
    "student = {\n",
    "    \"name\": \"김철수\",\n",
    "    \"age\": 20,\n",
    "    \"scores\": {\n",
    "        \"국어\": 85,\n",
    "        \"수학\": 90,\n",
    "        \"영어\": 88\n",
    "    }\n",
    "}\n",
    "\n",
    "# 객체 출력\n",
    "print(student)"
   ]
  },
  {
   "cell_type": "code",
   "execution_count": 24,
   "metadata": {},
   "outputs": [
    {
     "name": "stdout",
     "output_type": "stream",
     "text": [
      "김철수\n",
      "90\n"
     ]
    }
   ],
   "source": [
    "# 딕셔너리 데이터 접근\n",
    "print(student[\"name\"])          # 김철수\n",
    "print(student[\"scores\"][\"수학\"]) # 90"
   ]
  },
  {
   "cell_type": "code",
   "execution_count": 25,
   "metadata": {},
   "outputs": [
    {
     "name": "stdout",
     "output_type": "stream",
     "text": [
      "{'name': '김철수', 'age': 21, 'scores': {'국어': 90, '수학': 90, '영어': 88}}\n"
     ]
    }
   ],
   "source": [
    "# 딕셔너리 데이터 수정\n",
    "student[\"age\"] = 21\n",
    "student[\"scores\"][\"국어\"] = 90\n",
    "\n",
    "print(student)"
   ]
  },
  {
   "cell_type": "code",
   "execution_count": 27,
   "metadata": {},
   "outputs": [
    {
     "name": "stdout",
     "output_type": "stream",
     "text": [
      "dict_keys(['name', 'age', 'scores'])\n"
     ]
    }
   ],
   "source": [
    "# keys 메서드 - 키 값들을 리스트로 반환\n",
    "keys = student.keys()\n",
    "\n",
    "print(keys) "
   ]
  },
  {
   "cell_type": "code",
   "execution_count": 28,
   "metadata": {},
   "outputs": [
    {
     "name": "stdout",
     "output_type": "stream",
     "text": [
      "dict_values(['김철수', 21, {'국어': 90, '수학': 90, '영어': 88}])\n"
     ]
    }
   ],
   "source": [
    "# values 메서드 - 값들을 리스트로 반환\n",
    "\n",
    "values = student.values()\n",
    "\n",
    "print(values)"
   ]
  },
  {
   "cell_type": "code",
   "execution_count": 29,
   "metadata": {},
   "outputs": [
    {
     "name": "stdout",
     "output_type": "stream",
     "text": [
      "dict_items([('name', '김철수'), ('age', 21), ('scores', {'국어': 90, '수학': 90, '영어': 88})])\n"
     ]
    }
   ],
   "source": [
    "# items 메서드 - 키와 값의 쌍을 튜플로 반환\n",
    "\n",
    "items = student.items()\n",
    "\n",
    "print(items)"
   ]
  },
  {
   "cell_type": "code",
   "execution_count": 30,
   "metadata": {},
   "outputs": [
    {
     "name": "stdout",
     "output_type": "stream",
     "text": [
      "김철수\n",
      "주소 없음\n"
     ]
    }
   ],
   "source": [
    "# get 메서드 - 키로 값을 가져오기\n",
    "\n",
    "name = student.get(\"name\")\n",
    "print(name) # 김철수\n",
    "\n",
    "address = student.get(\"address\", \"주소 없음\")\n",
    "print(address)  "
   ]
  },
  {
   "cell_type": "markdown",
   "metadata": {},
   "source": [
    "---\n",
    "\n",
    "## 4단계: 함수와 모듈"
   ]
  },
  {
   "cell_type": "markdown",
   "metadata": {},
   "source": [
    "### 4.1 함수 정의와 호출\n",
    "\n",
    "- **함수**는 `def` 키워드로 정의하며, 코드의 **재사용성**과 **모듈화**를 위한 핵심 요소\n",
    "\n",
    "- **매개변수** 설정이 유연하며, 기본값 설정과 `*args`, `**kwargs`를 통한 가변 인자 지원\n",
    "\n",
    "- **다중 반환값**과 **중첩 함수**를 지원하여 복잡한 함수 로직 구현 가능"
   ]
  },
  {
   "cell_type": "code",
   "execution_count": 31,
   "metadata": {},
   "outputs": [],
   "source": [
    "# 가변인자 사용하기 - 함수의 매개변수 개수가 가변적일 때 사용\n",
    "def calculate_average(*numbers):\n",
    "    \"\"\"\n",
    "    여러 숫자의 평균을 계산하는 함수\n",
    "    Args:\n",
    "        *numbers: 가변 인자로 받는 숫자들 (숫자 여러 개 가능)\n",
    "    Returns:\n",
    "        float: 평균값\n",
    "    \"\"\"\n",
    "    return sum(numbers) / len(numbers)"
   ]
  },
  {
   "cell_type": "code",
   "execution_count": 32,
   "metadata": {},
   "outputs": [
    {
     "name": "stdout",
     "output_type": "stream",
     "text": [
      "평균: 30.0\n"
     ]
    }
   ],
   "source": [
    "# 숫자 여러 개를 인자로 받아 평균을 계산\n",
    "avg = calculate_average(10, 20, 30, 40, 50)\n",
    "print(f\"평균: {avg}\") "
   ]
  },
  {
   "cell_type": "code",
   "execution_count": 33,
   "metadata": {},
   "outputs": [
    {
     "name": "stdout",
     "output_type": "stream",
     "text": [
      "이름: 김철수, 나이: 20, 점수: 90\n"
     ]
    }
   ],
   "source": [
    "# 키워드 인자 사용 - 함수의 인자를 이름으로 전달\n",
    "\n",
    "def print_student_info(name, age, score):\n",
    "    \"\"\"\n",
    "    학생 정보를 출력하는 함수\n",
    "    Args:\n",
    "        name (str): 학생 이름\n",
    "        age (int): 학생 나이\n",
    "        score (int): 학생 점수\n",
    "\n",
    "    Returns:\n",
    "        None\n",
    "    \"\"\"\n",
    "\n",
    "    print(f\"이름: {name}, 나이: {age}, 점수: {score}\")\n",
    "\n",
    "\n",
    "# 키워드 인자로 함수 호출하여 학생 정보를 출력 \n",
    "print_student_info(name=\"김철수\", age=20, score=90)"
   ]
  },
  {
   "cell_type": "markdown",
   "metadata": {},
   "source": [
    "### 4.2 모듈 사용\n",
    "\n",
    "- **모듈**은 `import` 문으로 가져오며, 전체 모듈, 특정 요소, 별칭 사용 등 **다양한 임포트 방식** 지원\n",
    "- **표준 라이브러리**에서 `math`, `random`, `datetime`, `os`, `sys` 등 **자주 사용되는 모듈** 제공\n",
    "- **사용자 정의 모듈**은 작업 디렉토리나 `PYTHONPATH`에 위치해야 하며, **패키지**로 체계적 관리 가능"
   ]
  },
  {
   "cell_type": "code",
   "execution_count": 34,
   "metadata": {},
   "outputs": [
    {
     "name": "stdout",
     "output_type": "stream",
     "text": [
      "랜덤 숫자: 86\n"
     ]
    }
   ],
   "source": [
    "# random 모듈 활용\n",
    "import random\n",
    "\n",
    "random_number = random.randint(1, 100)\n",
    "print(f\"랜덤 숫자: {random_number}\")"
   ]
  },
  {
   "cell_type": "code",
   "execution_count": 35,
   "metadata": {},
   "outputs": [
    {
     "name": "stdout",
     "output_type": "stream",
     "text": [
      "현재 시간: 2025-05-15 22:36:20.086358\n"
     ]
    }
   ],
   "source": [
    "# datetime 모듈 활용\n",
    "import datetime\n",
    "\n",
    "current_time = datetime.datetime.now()\n",
    "print(f\"현재 시간: {current_time}\")"
   ]
  },
  {
   "cell_type": "code",
   "execution_count": 36,
   "metadata": {},
   "outputs": [
    {
     "name": "stdout",
     "output_type": "stream",
     "text": [
      "현재 시간: 2025-05-15 22:36:21.540275\n"
     ]
    }
   ],
   "source": [
    "# 특정 요소 가져오기\n",
    "from datetime import datetime  # datetime 모듈에서 datetime 클래스만 가져오기\n",
    "\n",
    "current_time = datetime.now()\n",
    "print(f\"현재 시간: {current_time}\")"
   ]
  },
  {
   "cell_type": "code",
   "execution_count": 37,
   "metadata": {},
   "outputs": [
    {
     "name": "stdout",
     "output_type": "stream",
     "text": [
      "랜덤 숫자: 98\n"
     ]
    }
   ],
   "source": [
    "# 모듈 별칭 사용\n",
    "import random as rd\n",
    "\n",
    "random_number = rd.randint(1, 100)\n",
    "print(f\"랜덤 숫자: {random_number}\")"
   ]
  },
  {
   "cell_type": "markdown",
   "metadata": {},
   "source": [
    "* 사용자 정의 모듈:    \n",
    "    - `.py` 파일로 생성\n",
    "    - 재사용 가능한 함수/클래스 포함\n",
    "    - `if __name__ == \"__main__\":` 로 직접 실행 시 동작 정의\n",
    "    - `import`로 다른 파일에서 사용"
   ]
  },
  {
   "cell_type": "code",
   "execution_count": 38,
   "metadata": {},
   "outputs": [
    {
     "name": "stdout",
     "output_type": "stream",
     "text": [
      "15\n"
     ]
    }
   ],
   "source": [
    "# calculator.py 파일을 만들어서 저장 \n",
    "def add(a, b):\n",
    "    return a + b\n",
    "\n",
    "def subtract(a, b):\n",
    "    return a - b\n",
    "\n",
    "if __name__ == \"__main__\":\n",
    "    print(add(10, 5))  "
   ]
  },
  {
   "cell_type": "code",
   "execution_count": 39,
   "metadata": {},
   "outputs": [
    {
     "ename": "ModuleNotFoundError",
     "evalue": "No module named 'calculator'",
     "output_type": "error",
     "traceback": [
      "\u001b[31m---------------------------------------------------------------------------\u001b[39m",
      "\u001b[31mModuleNotFoundError\u001b[39m                       Traceback (most recent call last)",
      "\u001b[36mCell\u001b[39m\u001b[36m \u001b[39m\u001b[32mIn[39]\u001b[39m\u001b[32m, line 2\u001b[39m\n\u001b[32m      1\u001b[39m \u001b[38;5;66;03m# 사용자 정의 모듈 불러오기\u001b[39;00m\n\u001b[32m----> \u001b[39m\u001b[32m2\u001b[39m \u001b[38;5;28;01mimport\u001b[39;00m\u001b[38;5;250m \u001b[39m\u001b[34;01mcalculator\u001b[39;00m\n\u001b[32m      4\u001b[39m result = calculator.add(\u001b[32m10\u001b[39m, \u001b[32m5\u001b[39m)\n\u001b[32m      5\u001b[39m \u001b[38;5;28mprint\u001b[39m(result)  \u001b[38;5;66;03m# 15\u001b[39;00m\n",
      "\u001b[31mModuleNotFoundError\u001b[39m: No module named 'calculator'"
     ]
    }
   ],
   "source": [
    "# 사용자 정의 모듈 불러오기\n",
    "import calculator\n",
    "\n",
    "result = calculator.add(10, 5)\n",
    "print(result)  # 15"
   ]
  },
  {
   "cell_type": "markdown",
   "metadata": {},
   "source": [
    "# [실습] 가장 큰 수 찾기 \n",
    "\n",
    "다음과 같은 함수를 작성하고 테스트 결과를 출력하세요. \n",
    "\n",
    "- 입력: 정수 배열 nums\n",
    "- 출력: 배열에서 가장 큰 수와 그 위치 (인덱스)\n",
    "- 제약조건: 배열 길이 1 이상, 중복 가능"
   ]
  },
  {
   "cell_type": "code",
   "execution_count": null,
   "metadata": {},
   "outputs": [],
   "source": [
    "# 여기에 코드를 작성하세요."
   ]
  },
  {
   "cell_type": "markdown",
   "metadata": {},
   "source": [
    "---\n",
    "\n",
    "# 파이썬 클린 코드 가이드\n",
    "\n",
    "- 클린 코드는 **효율적인 팀 협업**과 **안정적인 프로젝트 관리**의 기반\n",
    "\n",
    "- **가독성 향상**을 위해 일관된 코딩 스타일과 명확한 변수/함수 이름 사용\n",
    "- **유지보수**와 **버그 예방**을 위한 적절한 문서화와 테스트 코드 작성\n",
    "- **재사용성**을 높이기 위해 모듈화와 단일 책임 원칙 준수\n",
    "\n"
   ]
  },
  {
   "cell_type": "markdown",
   "metadata": {},
   "source": [
    "## 1. 의미 있는 이름 짓기\n",
    "\n",
    "- **의미 있는 변수명**은 snake_case로 작성하며, 데이터의 특성을 정확히 반영해야 합니다 (예: `user_age`, `total_price`)\n",
    "\n",
    "- **불리언 변수**는 `is_`, `has_`, `can_` 접두사를 사용하여 의미를 명확히 합니다\n",
    "\n",
    "- **함수명**은 동사로 시작하며 기능을 직관적으로 표현해야 합니다 (예: `get_user_info()`, `process_payment()`)\n",
    "\n",
    "- 모호한 이름(`x`, `temp`, `data`)은 사용을 피해야 합니다"
   ]
  },
  {
   "cell_type": "code",
   "execution_count": null,
   "metadata": {},
   "outputs": [],
   "source": [
    "### 나쁜 예제\n",
    "def f(x, l):\n",
    "    r = []\n",
    "    for i in range(l):\n",
    "        if x[i] > 0:\n",
    "            r.append(x[i])\n",
    "    return r\n",
    "```\n",
    "\n",
    "### 좋은 예제\n",
    "# 1. 함수명을 명확하게 작성\n",
    "# 2. 함수의 인자를 명확하게 작성\n",
    "# 3. 함수의 반환값을 명확하게 작성\n",
    "# 4. 타입 힌트를 사용하여 함수의 인자와 반환값의 타입을 명시\n",
    "# 5. 변수명이 구체적인 의미를 가지도록 작성\n",
    "\n",
    "def filter_positive_numbers(numbers: list, length: int) -> list:\n",
    "    positive_numbers = []\n",
    "    for index in range(length):\n",
    "        if numbers[index] > 0:\n",
    "            positive_numbers.append(numbers[index])\n",
    "    return positive_numbers"
   ]
  },
  {
   "cell_type": "markdown",
   "metadata": {},
   "source": [
    "## 2. 함수 작성 원칙\n",
    "\n",
    "- **단일 책임 원칙**(Single Responsibility Principle)은 함수가 하나의 작업만 수행해야 하는 원칙입니다\n",
    "\n",
    "- 각 함수는 **명확한 목적**을 가지며 다른 기능과 분리되어야 합니다\n",
    "\n",
    "- 이 원칙 적용 시 **코드 유지보수**와 **재사용성**이 향상됩니다\n",
    "\n",
    "- **테스트 용이성**과 **버그 감소** 효과가 있습니다"
   ]
  },
  {
   "cell_type": "code",
   "execution_count": null,
   "metadata": {},
   "outputs": [],
   "source": [
    "### 나쁜 예제 - 여러 책임이 혼재\n",
    "def process_user_data(user_data):\n",
    "    # 데이터 검증\n",
    "    if not user_data.get('name') or not user_data.get('email'):\n",
    "        raise ValueError(\"Invalid user data\")\n",
    "    \n",
    "    # 데이터베이스 저장\n",
    "    save_to_db(user_data)\n",
    "    \n",
    "    # 이메일 발송\n",
    "    send_welcome_email(user_data['email'])\n",
    "\n",
    "### 좋은 예제 - 책임 분리\n",
    "def validate_user_data(user_data):\n",
    "    if not user_data.get('name') or not user_data.get('email'):\n",
    "        raise ValueError(\"Invalid user data\")\n",
    "\n",
    "def save_user_data(user_data):\n",
    "    return save_to_db(user_data)\n",
    "\n",
    "def send_user_welcome_email(email):\n",
    "    send_welcome_email(email)\n",
    "\n",
    "def process_user_registration(user_data):\n",
    "    \"\"\"\n",
    "    사용자 등록 처리 함수 (책임 분리)\n",
    "    \"\"\"\n",
    "    validate_user_data(user_data)\n",
    "    save_user_data(user_data)\n",
    "    send_user_welcome_email(user_data['email'])"
   ]
  },
  {
   "cell_type": "markdown",
   "metadata": {},
   "source": [
    "## 3. 주석 작성 원칙\n",
    "\n",
    "- 주석은 `#`(한 줄) 또는 `\"\"\"`/`'''`(여러 줄)을 사용하여 코드의 **목적**과 **동작 원리**를 설명\n",
    "\n",
    "- **독스트링(docstring)** 은 함수와 클래스에 필수이며 매개변수, 반환값, 예외를 명확히 기술\n",
    "\n",
    "- 코드는 **자체 문서화(self-documenting)** 원칙을 따르고, 불필요한 주석은 제거"
   ]
  },
  {
   "cell_type": "code",
   "execution_count": null,
   "metadata": {},
   "outputs": [],
   "source": [
    "# 나쁜 예제 - 불필요한 주석\n",
    "# 사용자의 나이를 계산한다\n",
    "def calculate_age(birth_year):\n",
    "    # 현재 연도에서 출생연도를 뺀다\n",
    "    return 2024 - birth_year\n",
    "\n",
    "# 좋은 예제 - 필요한 설명만 포함\n",
    "def calculate_age(birth_year: int) -> int:\n",
    "    \"\"\"\n",
    "    주어진 출생연도로부터 현재 나이를 계산합니다.\n",
    "    \n",
    "    Args:\n",
    "        birth_year: 출생연도 (4자리 숫자)\n",
    "        \n",
    "    Returns:\n",
    "        현재 나이\n",
    "        \n",
    "    Raises:\n",
    "        ValueError: 출생연도가 올바르지 않은 경우\n",
    "    \"\"\"\n",
    "    if birth_year < 1900 or birth_year > 2024:\n",
    "        raise ValueError(\"올바르지 않은 출생연도입니다\")\n",
    "    return 2024 - birth_year"
   ]
  },
  {
   "cell_type": "markdown",
   "metadata": {},
   "source": [
    "## 4. 예외 처리\n",
    "\n",
    "- **예외 처리**는 `try-except` 구문을 사용해 프로그램 실행 중 발생하는 오류를 체계적으로 관리\n",
    "\n",
    "- 파이썬은 `TypeError`, `ValueError`, `FileNotFoundError` 등 다양한 **내장 예외 클래스** 제공\n",
    "\n",
    "- **예외 처리 구조**는 `try`, `except`, `else`, `finally` 블록으로 구성되며 각각 특정 상황에서 실행\n",
    "\n",
    "- `raise`문과 커스텀 예외 클래스를 활용해 상황에 맞는 예외 처리를 구현할 수 있음 "
   ]
  },
  {
   "cell_type": "code",
   "execution_count": null,
   "metadata": {},
   "outputs": [],
   "source": [
    "# 나쁜 예제 - 모든 예외를 동일하게 처리\n",
    "def process_file(filename):\n",
    "    try:\n",
    "        with open(filename) as f:\n",
    "            data = f.read()\n",
    "            process_data(data)\n",
    "    except Exception as e:\n",
    "        print(f\"Error: {e}\")\n",
    "\n",
    "# 좋은 예제 - 구체적인 예외 처리\n",
    "def process_file(filename: str) -> None:\n",
    "    try:\n",
    "        with open(filename) as f:\n",
    "            data = f.read()\n",
    "            process_data(data)\n",
    "    except FileNotFoundError:\n",
    "        print(f\"파일을 찾을 수 없습니다: {filename}\")\n",
    "        raise\n",
    "    except PermissionError:\n",
    "        print(f\"파일 접근 권한이 없습니다: {filename}\")\n",
    "        raise\n",
    "    except Exception as e:\n",
    "        print(f\"예상치 못한 에러 발생: {str(e)}\")\n",
    "        raise"
   ]
  },
  {
   "cell_type": "markdown",
   "metadata": {},
   "source": [
    "## 5. 컬렉션 다루기\n",
    "\n",
    "- **리스트**는 `[]`로 생성하는 수정 가능한 순서형 컬렉션으로, `append()`, `remove()` 등 다양한 메서드 제공\n",
    "\n",
    "- **튜플**은 `()`로 생성하는 **불변(immutable)** 컬렉션으로, 데이터 무결성이 필요한 경우 사용\n",
    "\n",
    "- **딕셔너리**는 `{}`로 생성하는 키-값 쌍 컬렉션으로, 고유한 키를 통해 데이터 접근\n",
    "\n",
    "- **집합**은 중복을 허용하지 않는 컬렉션으로, 집합 연산(`union`, `intersection` 등) 지원"
   ]
  },
  {
   "cell_type": "code",
   "execution_count": null,
   "metadata": {},
   "outputs": [],
   "source": [
    "# 나쁜 예제 - 복잡한 리스트 컴프리헨션\n",
    "numbers = [x for x in [y for y in range(100) if y % 2 == 0] if x % 3 == 0]\n",
    "\n",
    "# 좋은 예제 - 명확한 단계 분리\n",
    "def get_numbers_divisible_by_six(max_number: int) -> list:\n",
    "    even_numbers = [num for num in range(max_number) if num % 2 == 0]\n",
    "    return [num for num in even_numbers if num % 3 == 0]"
   ]
  },
  {
   "cell_type": "markdown",
   "metadata": {},
   "source": [
    "**[예제 해설]** \n",
    "\n",
    "- 코드 가독성을 위해 복잡한 **리스트 컴프리헨션**과 중첩된 연산은 지양\n",
    "\n",
    "- **함수 분리**를 통해 코드의 각 단계를 명확히 구분하여 작성\n",
    "\n",
    "- 의도가 명확한 **함수명**(`get_numbers_divisible_by_six()`)을 사용"
   ]
  },
  {
   "cell_type": "markdown",
   "metadata": {},
   "source": [
    "## 6. 상수 관리\n",
    "\n",
    "- 파이썬에서 상수는 모듈 레벨의 **대문자 변수**로 정의하며, `constants.py`와 같이 별도의 파일에서 함께 관리\n",
    "\n",
    "- **매직 넘버** 제거를 위해 상수를 사용하여 코드의 의미를 명확히 하고 유지보수성 향상\n",
    "\n",
    "- 환경별 설정값은 **환경변수**나 설정 파일과 연동하여 유연하게 관리\n",
    "\n",
    "- 관련 상수는 **Enum 클래스**로 그룹화하여 체계적으로 관리"
   ]
  },
  {
   "cell_type": "code",
   "execution_count": 42,
   "metadata": {},
   "outputs": [],
   "source": [
    "# 나쁜 예제 - 매직 넘버 사용\n",
    "def calculate_price(quantity, price):\n",
    "    if quantity > 100:\n",
    "        return quantity * price * 0.9\n",
    "    return quantity * price\n",
    "\n",
    "# 좋은 예제 - 상수 정의\n",
    "BULK_ORDER_THRESHOLD = 100\n",
    "BULK_ORDER_DISCOUNT = 0.9\n",
    "\n",
    "def calculate_price(quantity: int, price: float) -> float:\n",
    "    if quantity > BULK_ORDER_THRESHOLD:\n",
    "        return quantity * price * BULK_ORDER_DISCOUNT\n",
    "    return quantity * price"
   ]
  },
  {
   "cell_type": "code",
   "execution_count": null,
   "metadata": {},
   "outputs": [],
   "source": [
    "# enum 사용\n",
    "from enum import Enum\n",
    "\n",
    "class Color(Enum):\n",
    "    RED = 1\n",
    "    GREEN = 2\n",
    "    BLUE = 3\n",
    "\n",
    "# 사용 예\n",
    "print(Color.RED)  # Color.RED\n",
    "print(Color.RED.name)  # \"RED\"\n",
    "print(Color.RED.value)  # 1 "
   ]
  },
  {
   "cell_type": "markdown",
   "metadata": {},
   "source": [
    "## 7. 타입 힌트(Type Hints)\n",
    "\n",
    "- **타입 힌트**는 코드의 가독성을 높이고 타입 관련 버그를 조기 발견하는 기능\n",
    "\n",
    "- `typing` 모듈로 `List`, `Dict`, `Callable` 등 **복잡한 타입**을 명시 가능\n",
    "\n",
    "- `@dataclass` 데코레이터를 사용해 클래스 속성의 타입을 명확하게 문서화\n",
    "\n",
    "- Python 3.5부터 도입된 기능으로 코드의 안정성과 가독성을 향상\n",
    "\n",
    "- VS Code에서 Python 타입 오류를 체크하는 방법\n",
    "\n",
    "    1. VS Code에 필요한 확장 프로그램 설치:\n",
    "        - Python extension (Microsoft)\n",
    "        - Pylance (Microsoft) - Python의 언어 서버로, 타입 체킹 기능 제공\n",
    "\n",
    "    2. Pylance 설정:\n",
    "        - VS Code 설정(Settings)에서 \"Python Type Checking Mode\" 검색\n",
    "        - 다음 중 하나의 모드 선택:\n",
    "            - off: 타입 체킹 비활성화\n",
    "            - basic: 기본적인 타입 체킹\n",
    "            - strict: 엄격한 타입 체킹"
   ]
  },
  {
   "cell_type": "code",
   "execution_count": null,
   "metadata": {},
   "outputs": [],
   "source": [
    "from typing import List, Dict, Optional\n",
    "\n",
    "def process_user_list(\n",
    "    users: List[Dict[str, str]],             # 사용자 정보가 담긴 딕셔너리 리스트 : List[Dict[str, str]]\n",
    "    department: Optional[str] = None         # 필터링할 부서명 (선택사항) : Optional[str]\n",
    ") -> List[str]:                              # 이메일 주소 리스트 : List[str]\n",
    "    \"\"\"\n",
    "    사용자 목록을 처리하여 이메일 주소 리스트를 반환합니다.\n",
    "    \n",
    "    Args:\n",
    "        users: 사용자 정보가 담긴 딕셔너리 리스트\n",
    "        department: 필터링할 부서명 (선택사항)\n",
    "        \n",
    "    Returns:\n",
    "        이메일 주소 리스트\n",
    "    \"\"\"\n",
    "    if department:\n",
    "        filtered_users = [\n",
    "            user for user in users \n",
    "            if user.get('department') == department\n",
    "        ]\n",
    "    else:\n",
    "        filtered_users = users\n",
    "    \n",
    "    return [user['email'] for user in filtered_users]\n",
    "\n",
    "\n",
    "# 함수 호출 - 사용자 목록에서 마케팅팀 이메일 주소만 가져오기\n",
    "users = [\n",
    "    {\"name\": \"김철수\", \"email\": \"dev777@test.com\", \"department\": \"개발팀\"},\n",
    "    {\"name\": \"박영희\", \"email\": \"marketing99@test.com\", \"department\": \"마케팅팀\"},\n",
    "    {\"name\": \"이민수\", \"email\": \"marketing2@test.com\", \"department\": \"마케팅팀\"},\n",
    "]\n",
    "\n",
    "emails = process_user_list(users, department=\"마케팅팀\")\n",
    "print(emails)  "
   ]
  },
  {
   "cell_type": "markdown",
   "metadata": {},
   "source": [
    "# [실습] 리스트에서 중복 숫자 찾기 \n",
    "\n",
    "다음과 같은 함수를 작성하고 테스트 결과를 출력하세요. \n",
    "\n",
    "요구사항:\n",
    "- 주어진 정수 리스트에서 중복되는 숫자 찾기\n",
    "- 결과는 오름차순으로 정렬된 리스트로 반환\n",
    "- 중복이 없으면 빈 리스트 반환\n",
    "\n",
    "제약조건:\n",
    "- 입력 리스트 길이: 1 이상 100 이하\n",
    "- 각 정수 범위: -100 이상 100 이하"
   ]
  },
  {
   "cell_type": "code",
   "execution_count": null,
   "metadata": {},
   "outputs": [],
   "source": [
    "# 여기에 코드를 작성하세요."
   ]
  },
  {
   "cell_type": "code",
   "execution_count": 1,
   "metadata": {},
   "outputs": [],
   "source": [
    "import langchain"
   ]
  },
  {
   "cell_type": "code",
   "execution_count": 2,
   "metadata": {},
   "outputs": [
    {
     "data": {
      "text/plain": [
       "'0.3.25'"
      ]
     },
     "execution_count": 2,
     "metadata": {},
     "output_type": "execute_result"
    }
   ],
   "source": [
    "langchain.__version__"
   ]
  }
 ],
 "metadata": {
  "kernelspec": {
   "display_name": ".venv",
   "language": "python",
   "name": "python3"
  },
  "language_info": {
   "codemirror_mode": {
    "name": "ipython",
    "version": 3
   },
   "file_extension": ".py",
   "mimetype": "text/x-python",
   "name": "python",
   "nbconvert_exporter": "python",
   "pygments_lexer": "ipython3",
   "version": "3.13.3"
  }
 },
 "nbformat": 4,
 "nbformat_minor": 2
}
